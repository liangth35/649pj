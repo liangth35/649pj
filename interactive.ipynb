{
 "cells": [
  {
   "cell_type": "code",
   "execution_count": 50,
   "metadata": {},
   "outputs": [
    {
     "data": {
      "text/plain": [
       "DeltaGenerator(_root_container=0, _provided_cursor=None, _parent=None, _block_type=None, _form_data=None)"
      ]
     },
     "execution_count": 50,
     "metadata": {},
     "output_type": "execute_result"
    }
   ],
   "source": [
    "import numpy as np\n",
    "import pandas as pd\n",
    "import altair as alt\n",
    "import streamlit as st\n",
    "from vega_datasets import data\n",
    "df=pd.read_csv('pj3.csv')\n",
    "df=df[df.Question=='Mammogram in Past 2 Years']\n",
    "state_map = data.us_10m.url\n",
    "\n",
    "select_state = alt.selection_single(fields=['id'], init={'id': 48}, )\n",
    "\n",
    "map1 = alt.Chart(alt.topo_feature(state_map, 'states')).mark_geoshape().encode(\n",
    "   color=alt.Color('Difference(%):Q', scale=alt.Scale(scheme='reds')),\n",
    "   opacity=alt.condition(select_state, alt.value(1), alt.value(0.5)),\n",
    "   tooltip=['State:N', 'Difference(%):Q'],\n",
    ").transform_lookup(\n",
    "   lookup='id',\n",
    "   from_=alt.LookupData(df, key='id', fields=['Difference(%)','State'])\n",
    ").project(\n",
    "   'albersUsa'\n",
    ").add_selection(\n",
    "   select_state\n",
    ")\n",
    "\n",
    "bar = alt.Chart(df).mark_bar().encode(\n",
    "   y=alt.Y('mean(Percentage):Q',scale=alt.Scale(domain=[0, 100]), title='Percentage(%)'),\n",
    "   x=alt.X('Status:N'),\n",
    "   tooltip=alt.Tooltip('mean(Percentage):Q', format='.1f'),\n",
    ").transform_filter(\n",
    "   select_state\n",
    ")\n",
    "\n",
    "chart=(map1|bar).resolve_scale(y='shared').configure_view(strokeWidth=0).configure_legend(orient='left')\n",
    "chart.title =  alt.TitleParams('Difference between the percentage of normal and disabled people who have taken mammogram in the past two years', anchor='middle')\n",
    "st.altair_chart(chart, theme='streamlit')"
   ]
  }
 ],
 "metadata": {
  "kernelspec": {
   "display_name": "Python 3.8.16 ('si649')",
   "language": "python",
   "name": "python3"
  },
  "language_info": {
   "codemirror_mode": {
    "name": "ipython",
    "version": 3
   },
   "file_extension": ".py",
   "mimetype": "text/x-python",
   "name": "python",
   "nbconvert_exporter": "python",
   "pygments_lexer": "ipython3",
   "version": "3.8.13"
  },
  "orig_nbformat": 4,
  "vscode": {
   "interpreter": {
    "hash": "0e987848bc815604f702e77fdd7628492313d674c0527962ea663357a6825182"
   }
  }
 },
 "nbformat": 4,
 "nbformat_minor": 2
}
